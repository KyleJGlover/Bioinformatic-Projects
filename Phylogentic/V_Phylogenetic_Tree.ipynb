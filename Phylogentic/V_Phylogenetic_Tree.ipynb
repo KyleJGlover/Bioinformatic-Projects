{
 "cells": [
  {
   "cell_type": "markdown",
   "metadata": {},
   "source": [
    "# V - Phylogenetic Tree Construction"
   ]
  },
  {
   "cell_type": "markdown",
   "metadata": {},
   "source": [
    "With this code you can construct a phylogenetic tree. You only need a list of Genbank accession numbers.\n",
    "\n",
    "You can find all material in my GitHub repository"
   ]
  },
  {
   "cell_type": "markdown",
   "metadata": {},
   "source": [
    "## Set your working directory"
   ]
  },
  {
   "cell_type": "markdown",
   "metadata": {},
   "source": [
    "First, set up your working directory. Standard, this is the location where this jupyter notebook is situated. "
   ]
  },
  {
   "cell_type": "code",
   "execution_count": null,
   "metadata": {},
   "outputs": [],
   "source": [
    "import os\n",
    "wdir = os.getcwd()\n",
    "print(wdir)"
   ]
  },
  {
   "cell_type": "markdown",
   "metadata": {},
   "source": [
    "## Obtain sequences"
   ]
  },
  {
   "cell_type": "markdown",
   "metadata": {},
   "source": [
    "We start from a file with accession numbers and the country of origin. \n",
    "\n",
    "I got the accession numbers from https://www.ncbi.nlm.nih.gov/labs/virus/vssi/#/virus?SeqType_s=Nucleotide&VirusLineage_ss=Severe%20acute%20respiratory%20syndrome%20coronavirus%202,%20taxid:2697049\n",
    "\n",
    "There you can choose your countries of interest. I chose 5 that will create a phylogenetic with thirty sequences in total. "
   ]
  },
  {
   "cell_type": "code",
   "execution_count": null,
   "metadata": {},
   "outputs": [],
   "source": [
    "import csv\n",
    "from Bio import SeqIO\n",
    "from Bio import Entrez\n",
    "\n",
    "fasta_file = {}\n",
    "ct = 0\n",
    "\n",
    "Entrez.email = \"A.N.Other@example.com\"\n",
    "with open('accessions.txt') as csv_file:\n",
    "    csv_reader = csv.reader(csv_file, delimiter=',')\n",
    "    for row in csv_reader:\n",
    "        print(row)\n",
    "        with Entrez.efetch(db=\"nucleotide\", rettype=\"gb\", retmode = \"text\", id = row[0]) as handle:\n",
    "            for seq_record in SeqIO.parse(handle, \"gb\"):\n",
    "                fasta_file[row[1]] = str(seq_record.seq)\n",
    "                ct += 1  \n",
    "      \n",
    "print(\"Number of sequences in file:\", ct)\n",
    "\n",
    "# save all sequences in the multi-fasta file \"sequences_general.txt\"\n",
    "\n",
    "f = open(\"sequences.txt\",\"w+\")\n",
    "for keys,values in fasta_file.items():\n",
    "    f.write(\">\" + str(keys) + \"\\n\" + str(values) + \"\\n\")\n",
    "f.close()"
   ]
  },
  {
   "cell_type": "markdown",
   "metadata": {},
   "source": [
    "## Multiple sequence alignment (MSA)"
   ]
  },
  {
   "cell_type": "markdown",
   "metadata": {},
   "source": [
    "You can choose between the locally installed or browser-based Clustal Omega. In this tutorial, we use the locally installed version. You can find the Clustal Omega file on github. You only have to unzip clustalo.zip and store it in the same folder as this notebook. "
   ]
  },
  {
   "cell_type": "code",
   "execution_count": null,
   "metadata": {},
   "outputs": [],
   "source": [
    "from Bio.Align.Applications import ClustalOmegaCommandline\n",
    "\n",
    "in_file = \"sequences.txt\"\n",
    "\n",
    "out_file = \"alignment_covid.fasta\"\n",
    "\n",
    "clustalomega_cline = ClustalOmegaCommandline(infile = in_file, outfile = out_file, verbose=True, auto=False)\n",
    "\n",
    "print(clustalomega_cline)\n",
    "\n",
    "\"\"\"\n",
    "# WINDOWS\n",
    "# Python will fill out clustal omega in the command line for you!\n",
    "path = \"r'\" + str(wdir) #.'\n",
    "input_command = '\"' + wdir + '/clustal-omega-1.2.2-win64/' + str(clustalomega_cline)[0:8] + '\" ' + str(clustalomega_cline)[9:] + '-threads=1'\n",
    "os.system(input_command)\n",
    "\n",
    "\"\"\"\n",
    "# MAC\n",
    "# Python will fill out clustal omega in the command line for you!\n",
    "input_command = \"./\" + str(clustalomega_cline)\n",
    "os.system(input_command)\n"
   ]
  },
  {
   "cell_type": "markdown",
   "metadata": {},
   "source": [
    "You can find the result of the msa in your working directory. It will be a fasta-file with the same name as the 'out_file'."
   ]
  },
  {
   "cell_type": "markdown",
   "metadata": {},
   "source": [
    "## Draw tree"
   ]
  },
  {
   "cell_type": "markdown",
   "metadata": {},
   "source": [
    "Before drawing the actual tree, we create a distance matrix. This forms the basis for the tree. "
   ]
  },
  {
   "cell_type": "code",
   "execution_count": null,
   "metadata": {},
   "outputs": [],
   "source": [
    "out_file = \"alignment_covid.fasta\"\n",
    "\n",
    "# Read alignment file\n",
    "from Bio import AlignIO\n",
    "align = AlignIO.read(out_file, \"fasta\")\n",
    "print(align)\n",
    "\n",
    "# Calculate distance matrix\n",
    "from Bio.Phylo.TreeConstruction import DistanceCalculator\n",
    "calculator = DistanceCalculator('identity')\n",
    "dm = calculator.get_distance(align)\n",
    "print(dm)"
   ]
  },
  {
   "cell_type": "markdown",
   "metadata": {},
   "source": [
    "# Drawing the phylogenetic tree using UPGMA (unweighted pair group method with arithmetic mean) method"
   ]
  },
  {
   "cell_type": "code",
   "execution_count": null,
   "metadata": {},
   "outputs": [],
   "source": [
    "from Bio import Phylo\n",
    "from Bio.Phylo.TreeConstruction import DistanceTreeConstructor\n",
    "constructor = DistanceTreeConstructor()\n",
    "tree = constructor.upgma(dm)\n",
    "\n",
    "import matplotlib\n",
    "import matplotlib.pyplot as plt\n",
    "\n",
    "def plot_tree(tree, output_file):\n",
    "    # set the size of the figure\n",
    "    fig = plt.figure(figsize=(50, 40), dpi=100)\n",
    "    # fig.set_size_inches(10, 20) # in inches\n",
    "    plt.rcParams.update({'font.size':30})\n",
    "    axes = fig.add_subplot(1, 1, 1)\n",
    "    fig1 = plt.gcf()\n",
    "    Phylo.draw(tree, axes=axes, branch_labels=None)\n",
    "    Phylo.draw_ascii(tree)\n",
    "    fig1.savefig(output_file, dpi=100)\n",
    "    return\n",
    "\n",
    "plot_tree(tree,\"tree.jpg\")"
   ]
  }
 ],
 "metadata": {
  "kernelspec": {
   "display_name": "Python 3",
   "language": "python",
   "name": "python3"
  },
  "language_info": {
   "codemirror_mode": {
    "name": "ipython",
    "version": 3
   },
   "file_extension": ".py",
   "mimetype": "text/x-python",
   "name": "python",
   "nbconvert_exporter": "python",
   "pygments_lexer": "ipython3",
   "version": "3.8.3"
  }
 },
 "nbformat": 4,
 "nbformat_minor": 4
}
