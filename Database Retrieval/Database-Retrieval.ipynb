{
 "cells": [
  {
   "attachments": {},
   "cell_type": "markdown",
   "id": "cc21ca79",
   "metadata": {},
   "source": [
    "# Gene Information"
   ]
  },
  {
   "cell_type": "code",
   "execution_count": null,
   "id": "a7bd8931",
   "metadata": {},
   "outputs": [],
   "source": [
    "# Import the Entrez module from Biopython for accessing NCBI databases\n",
    "from Bio import Entrez\n",
    "\n",
    "# Function to fetch genomic sequence using the provided accession number\n",
    "def fetch_genomic_sequence(accession):\n",
    "    Entrez.email = \"kjglover4585@gmail.com\"  # Replace with your email address\n",
    "    # Set the email address to allow NCBI to contact you in case of any issues\n",
    "    handle = Entrez.efetch(db=\"nuccore\", id=accession, rettype=\"fasta\", retmode=\"text\")\n",
    "    # 'efetch' is used to fetch the sequence data from the \"nuccore\" database using the provided accession number.\n",
    "    # 'rettype=\"fasta\"' specifies that the data should be returned in FASTA format (sequence data).\n",
    "    # 'retmode=\"text\"' indicates that the data should be returned as a text string.\n",
    "    record = handle.read()  # Read the fetched sequence data\n",
    "    handle.close()  # Close the handle to release resources\n",
    "    return record  # Return the fetched genomic sequence as a string\n",
    "\n",
    "# Example usage\n",
    "genomic_accession = \"NC_000001\"  # Replace with the accession number of your genomic sequence of interest\n",
    "sequence = fetch_genomic_sequence(genomic_accession)  # Call the function with the accession number to retrieve the sequence\n",
    "print(sequence)  # Print the retrieved genomic sequence\n"
   ]
  },
  {
   "attachments": {},
   "cell_type": "markdown",
   "id": "eb8625ba",
   "metadata": {},
   "source": [
    "# Protein Sequence"
   ]
  },
  {
   "cell_type": "code",
   "execution_count": null,
   "id": "b5c5bb2f",
   "metadata": {},
   "outputs": [],
   "source": [
    "# Import the Entrez module from Biopython for accessing NCBI databases\n",
    "from Bio import Entrez\n",
    "\n",
    "# Function to fetch protein sequence using the provided accession number\n",
    "def fetch_protein_sequence(accession):\n",
    "    Entrez.email = \"kjglover4585@gmail.com\"  # Replace with your email address\n",
    "    # Set the email address to allow NCBI to contact you in case of any issues\n",
    "    handle = Entrez.efetch(db=\"protein\", id=accession, rettype=\"fasta\", retmode=\"text\")\n",
    "    # 'efetch' is used to fetch the sequence data from the \"protein\" database using the provided accession number.\n",
    "    # 'rettype=\"fasta\"' specifies that the data should be returned in FASTA format (sequence data).\n",
    "    # 'retmode=\"text\"' indicates that the data should be returned as a text string.\n",
    "    record = handle.read()  # Read the fetched sequence data\n",
    "    handle.close()  # Close the handle to release resources\n",
    "    return record  # Return the fetched protein sequence as a string\n",
    "\n",
    "# Example usage\n",
    "protein_accession = \"P01308\"  # Replace with the accession number of your protein of interest\n",
    "sequence = fetch_protein_sequence(protein_accession)  # Call the function with the accession number to retrieve the sequence\n",
    "print(sequence)  # Print the retrieved protein sequence\n"
   ]
  },
  {
   "attachments": {},
   "cell_type": "markdown",
   "id": "97ab3980",
   "metadata": {},
   "source": [
    "# Mrna Sequence"
   ]
  },
  {
   "cell_type": "code",
   "execution_count": null,
   "id": "31a72219",
   "metadata": {},
   "outputs": [],
   "source": [
    "# Import the Entrez module from Biopython for accessing NCBI databases\n",
    "from Bio import Entrez\n",
    "\n",
    "# Function to fetch mRNA sequence using the provided accession number\n",
    "def fetch_mrna_sequence(accession):\n",
    "    Entrez.email = \"kjglover4585@gmail.com\"  # Replace with your email address\n",
    "    # Set the email address to allow NCBI to contact you in case of any issues\n",
    "    handle = Entrez.efetch(db=\"nucleotide\", id=accession, rettype=\"fasta\", retmode=\"text\")\n",
    "    # 'efetch' is used to fetch the sequence data from the \"nucleotide\" database using the provided accession number.\n",
    "    # 'rettype=\"fasta\"' specifies that the data should be returned in FASTA format (sequence data).\n",
    "    # 'retmode=\"text\"' indicates that the data should be returned as a text string.\n",
    "    record = handle.read()  # Read the fetched sequence data\n",
    "    handle.close()  # Close the handle to release resources\n",
    "    return record  # Return the fetched mRNA sequence as a string\n",
    "\n",
    "# Example usage\n",
    "mrna_accession = \"NM_001123456\"  # Replace with the accession number of your mRNA of interest\n",
    "sequence = fetch_mrna_sequence(mrna_accession)  # Call the function with the accession number to retrieve the sequence\n",
    "print(sequence)  # Print the retrieved mRNA sequence"
   ]
  },
  {
   "attachments": {},
   "cell_type": "markdown",
   "id": "143ec975",
   "metadata": {},
   "source": [
    "# Genomic Sequence"
   ]
  },
  {
   "cell_type": "code",
   "execution_count": null,
   "id": "27a95aec",
   "metadata": {},
   "outputs": [],
   "source": [
    "# Import the Entrez module from Biopython for accessing NCBI databases\n",
    "from Bio import Entrez\n",
    "\n",
    "# Function to fetch genomic sequence using the provided accession number\n",
    "def fetch_genomic_sequence(accession):\n",
    "    Entrez.email = \"kjglover4585@gmail.com\"  # Replace with your email address\n",
    "    # Set the email address to allow NCBI to contact you in case of any issues\n",
    "    handle = Entrez.efetch(db=\"nuccore\", id=accession, rettype=\"fasta\", retmode=\"text\")\n",
    "    # 'efetch' is used to fetch the sequence data from the \"nuccore\" database using the provided accession number.\n",
    "    # 'rettype=\"fasta\"' specifies that the data should be returned in FASTA format (sequence data).\n",
    "    # 'retmode=\"text\"' indicates that the data should be returned as a text string.\n",
    "    record = handle.read()  # Read the fetched sequence data\n",
    "    handle.close()  # Close the handle to release resources\n",
    "    return record  # Return the fetched genomic sequence as a string\n",
    "\n",
    "# Example usage\n",
    "genomic_accession = \"NC_000001\"  # Replace with the accession number of your genomic sequence of interest\n",
    "sequence = fetch_genomic_sequence(genomic_accession)  # Call the function with the accession number to retrieve the sequence\n",
    "print(sequence)  # Print the retrieved genomic sequence\n"
   ]
  },
  {
   "attachments": {},
   "cell_type": "markdown",
   "id": "bcb03dcc",
   "metadata": {},
   "source": [
    "# PDB Structure Retrieval"
   ]
  },
  {
   "cell_type": "code",
   "execution_count": null,
   "id": "24960aac",
   "metadata": {},
   "outputs": [],
   "source": [
    "# Import the PDBList module from Biopython for accessing the Protein Data Bank (PDB)\n",
    "from Bio.PDB import PDBList\n",
    "\n",
    "# Function to fetch PDB structure using the provided PDB ID\n",
    "def fetch_pdb_structure(pdb_id):\n",
    "    pdbl = PDBList()\n",
    "    # Create a PDBList object to interact with the PDB database\n",
    "    \n",
    "    pdbl.retrieve_pdb_file(pdb_id, file_format=\"pdb\", pdir=\"./\")\n",
    "    # Use the retrieve_pdb_file method to fetch the PDB structure with the given PDB ID\n",
    "    # 'file_format=\"pdb\"' specifies that the data should be returned in PDB format (structure data).\n",
    "    # 'pdir=\"./\"' indicates that the downloaded PDB file will be saved in the current directory.\n",
    "    \n",
    "    pdb_filename = f\"pdb{pdb_id.lower()}.ent\"\n",
    "    # The downloaded PDB file will have a filename in the format \"pdbXXXX.ent\", where XXXX is the PDB ID in lowercase.\n",
    "    \n",
    "    return pdb_filename  # Return the filename of the downloaded PDB structure\n",
    "\n",
    "# Example usage\n",
    "pdb_id = \"1CRN\"  # Replace with the PDB ID of the structure you want to retrieve\n",
    "pdb_filename = fetch_pdb_structure(pdb_id)  # Call the function with the PDB ID to retrieve the structure\n",
    "print(f\"PDB structure {pdb_id} downloaded as {pdb_filename}\")  # Print the filename of the downloaded PDB structure\n"
   ]
  },
  {
   "attachments": {},
   "cell_type": "markdown",
   "id": "55652372",
   "metadata": {},
   "source": [
    "# Querying Database"
   ]
  },
  {
   "cell_type": "code",
   "execution_count": null,
   "id": "c3e29940",
   "metadata": {},
   "outputs": [],
   "source": [
    "# Import necessary modules from Biopython\n",
    "from Bio import Entrez, Medline, SeqIO\n",
    "\n",
    "# Set your email address for NCBI Entrez access\n",
    "Entrez.email = \"kjglover4585@gmail.com\"\n",
    "\n",
    "# Use Entrez to retrieve information about available databases\n",
    "handle = Entrez.einfo()\n",
    "rec = Entrez.read(handle)\n",
    "print(rec)\n",
    "\n",
    "# Search for nucleotide sequences with gene name \"CRT\" from \"Plasmodium falciparum\"\n",
    "handle = Entrez.esearch(db=\"nucleotide\", term='CRT[Gene Name] AND \"Plasmodium falciparum\"[Organism]')\n",
    "rec_list = Entrez.read(handle)\n",
    "\n",
    "# If there are more results than the default limit, fetch all results\n",
    "if int(rec_list['RetMax']) < int(rec_list['Count']):\n",
    "    handle = Entrez.esearch(db=\"nucleotide\", term='CRT[Gene Name] AND \"Plasmodium falciparum\"[Organism]',\n",
    "                            retmax=rec_list['Count'])\n",
    "    rec_list = Entrez.read(handle)\n",
    "\n",
    "# Retrieve the list of matching sequence IDs\n",
    "id_list = rec_list['IdList']\n",
    "\n",
    "# Fetch the records corresponding to the retrieved IDs in GenBank format\n",
    "hdl = Entrez.efetch(db='nucleotide', id=id_list, rettype='gb', retmax=rec_list['Count'])\n",
    "recs = list(SeqIO.parse(hdl, 'gb'))\n",
    "\n",
    "# Search for a specific sequence with name \"KM288867\"\n",
    "for rec in recs:\n",
    "    if rec.name == 'KM288867':\n",
    "        break\n",
    "print(rec.name)\n",
    "print(rec.description)\n",
    "\n",
    "# Analyze sequence features\n",
    "for feature in rec.features:\n",
    "    if feature.type == 'gene':\n",
    "        print(feature.qualifiers['gene'])\n",
    "    elif feature.type == 'exon':\n",
    "        loc = feature.location\n",
    "        print('Exon', loc.start, loc.end, loc.strand)\n",
    "    else:\n",
    "        print('not processed:\\n%s' % feature)\n",
    "\n",
    "# Print annotations of the retrieved sequence\n",
    "for name, value in rec.annotations.items():\n",
    "    print('%s=%s' % (name, value))\n",
    "\n",
    "# Print the length of the sequence\n",
    "print(len(rec.seq))\n",
    "\n",
    "# Retrieve and display the references associated with the sequence\n",
    "refs = rec.annotations['references']\n",
    "print(refs)\n",
    "for ref in refs:\n",
    "    if ref.pubmed_id != '':\n",
    "        print(ref.pubmed_id)\n",
    "        handle = Entrez.efetch(db=\"pubmed\", id=[ref.pubmed_id],\n",
    "                                rettype=\"medline\", retmode=\"text\")\n",
    "        records = Medline.parse(handle)\n",
    "        for med_rec in records:\n",
    "            for k, v in med_rec.items():\n",
    "                print('%s: %s' % (k, v))"
   ]
  },
  {
   "attachments": {},
   "cell_type": "markdown",
   "id": "a293da2b",
   "metadata": {},
   "source": [
    "# Analyzing retrieved data"
   ]
  },
  {
   "cell_type": "code",
   "execution_count": null,
   "id": "d6c1acfb",
   "metadata": {},
   "outputs": [],
   "source": [
    "from Bio.SeqUtils import GC\n",
    "\n",
    "sequence = \"ATGCTGACTAGCTAGCTAGCGATATAGATAGTGATGATGATGTGTAGTATAGTAGTGATGTGATTAGTAGTAGTAGTATGATGATGTGATGTAGTATAGTAGTAGTAGTATGATGATGATTACATCTACTACTACTACTAGCTAGCTTAG\"\n",
    "gc_content = GC(sequence)\n",
    "print(f\"GC content: {gc_content}%\")"
   ]
  },
  {
   "attachments": {},
   "cell_type": "markdown",
   "id": "b3025d34",
   "metadata": {},
   "source": [
    "# Filtering retrieved data"
   ]
  },
  {
   "cell_type": "code",
   "execution_count": null,
   "id": "b962a0fb",
   "metadata": {},
   "outputs": [],
   "source": [
    "# Import the SeqIO module from Biopython for parsing sequence data from files\n",
    "from Bio import SeqIO\n",
    "\n",
    "# Function to filter sequences based on their length\n",
    "def filter_sequences_by_length(sequences, min_length):\n",
    "    filtered_sequences = []  # Create an empty list to store the filtered sequences\n",
    "    for sequence in sequences:\n",
    "        if len(sequence) >= min_length:\n",
    "            # Check if the length of the sequence is greater than or equal to the minimum length\n",
    "            # If the condition is met, add the sequence to the filtered_sequences list\n",
    "            filtered_sequences.append(sequence)\n",
    "    return filtered_sequences  # Return the list of filtered sequences\n",
    "\n",
    "# Example usage\n",
    "fasta_file = \"sequence.fasta\"  # Replace with the filename of your FASTA file containing sequences\n",
    "min_length = 100  # Set the minimum length for filtering sequences\n",
    "sequences = SeqIO.parse(fasta_file, \"fasta\")  # Parse the FASTA file to get a sequence iterator\n",
    "filtered_sequences = filter_sequences_by_length(sequences, min_length)  # Call the function to filter sequences\n",
    "for sequence in filtered_sequences:\n",
    "    print(sequence)  # Print the filtered sequences"
   ]
  }
 ],
 "metadata": {
  "kernelspec": {
   "display_name": "Python 3 (ipykernel)",
   "language": "python",
   "name": "python3"
  },
  "language_info": {
   "codemirror_mode": {
    "name": "ipython",
    "version": 3
   },
   "file_extension": ".py",
   "mimetype": "text/x-python",
   "name": "python",
   "nbconvert_exporter": "python",
   "pygments_lexer": "ipython3",
   "version": "3.9.2"
  }
 },
 "nbformat": 4,
 "nbformat_minor": 5
}
